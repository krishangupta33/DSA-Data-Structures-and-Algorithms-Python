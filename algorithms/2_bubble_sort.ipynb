{
 "cells": [
  {
   "cell_type": "code",
   "execution_count": 15,
   "metadata": {},
   "outputs": [
    {
     "name": "stdout",
     "output_type": "stream",
     "text": [
      "([0, 0, 0, 0, 1, 2, 2, 3, 23, 23, 23, 32, 42], 1)\n",
      "([0, 1, 2, 3, 23, 32, 42], 0)\n"
     ]
    }
   ],
   "source": [
    "def bubble_sort(arr):\n",
    "    swapped=0\n",
    "    for j in range(len(arr)):\n",
    "        \n",
    "        for i in range(len(arr)-1-j):\n",
    "            \n",
    "            if arr[i+1]<arr[i]:\n",
    "                c=arr[i+1]\n",
    "                arr[i+1]=arr[i]\n",
    "                arr[i]=c\n",
    "                swapped=1\n",
    "        if swapped==0:\n",
    "            break\n",
    "\n",
    "    return arr, swapped\n",
    "        \n",
    "\n",
    "if __name__==\"__main__\":\n",
    "    arr=[2,32,3,42,2,23,1,0,0,0,0,23,23]\n",
    "\n",
    "    print(bubble_sort(arr))\n",
    "\n",
    "    arr=[0, 1, 2, 3, 23, 32, 42]\n",
    "\n",
    "    print(bubble_sort(arr))\n",
    "\n",
    "\n"
   ]
  },
  {
   "cell_type": "markdown",
   "metadata": {},
   "source": [
    "### Bubble Sort Exercise\n",
    "\n",
    "Modify [bubble_sort function](https://github.com/codebasics/data-structures-algorithms-python/blob/master/algorithms/2_BubbleSort/bubble_sort.py) such that it can sort following list of transactions happening in an electronic store,\n",
    "```\n",
    "elements = [\n",
    "        { 'name': 'mona',   'transaction_amount': 1000, 'device': 'iphone-10'},\n",
    "        { 'name': 'dhaval', 'transaction_amount': 400,  'device': 'google pixel'},\n",
    "        { 'name': 'kathy',  'transaction_amount': 200,  'device': 'vivo'},\n",
    "        { 'name': 'aamir',  'transaction_amount': 800,  'device': 'iphone-8'},\n",
    "    ]\n",
    "``` \n",
    "bubble_sort function should take key from a transaction record and sort the list as per that key. For example,\n",
    "```\n",
    "bubble_sort(elements, key='transaction_amount')\n",
    "```\n",
    "This will sort elements by transaction_amount and your sorted list will look like,\n",
    "```\n",
    "elements = [\n",
    "        { 'name': 'kathy',  'transaction_amount': 200,  'device': 'vivo'},\n",
    "        { 'name': 'dhaval', 'transaction_amount': 400,  'device': 'google pixel'},\n",
    "        { 'name': 'aamir',  'transaction_amount': 800,  'device': 'iphone-8'},\n",
    "        { 'name': 'mona',   'transaction_amount': 1000, 'device': 'iphone-10'},\n",
    "    ]\n",
    "``` \n",
    "But if you call it like this,\n",
    "```\n",
    "bubble_sort(elements, key='name')\n",
    "```\n",
    "output will be,\n",
    "```\n",
    "elements = [\n",
    "        { 'name': 'aamir',  'transaction_amount': 800,  'device': 'iphone-8'},\n",
    "        { 'name': 'dhaval', 'transaction_amount': 400,  'device': 'google pixel'},\n",
    "        { 'name': 'kathy',  'transaction_amount': 200,  'device': 'vivo'},\n",
    "        { 'name': 'mona',   'transaction_amount': 1000, 'device': 'iphone-10'},\n",
    "    ]\n",
    "``` \n",
    "\n",
    "[Solution](https://github.com/codebasics/data-structures-algorithms-python/blob/master/algorithms/2_BubbleSort/bubble_sort_exercise_solution.py)\n"
   ]
  },
  {
   "cell_type": "code",
   "execution_count": 3,
   "metadata": {},
   "outputs": [
    {
     "name": "stdout",
     "output_type": "stream",
     "text": [
      "([{'name': 'aamir', 'transaction_amount': 800, 'device': 'iphone-8'}, {'name': 'dhaval', 'transaction_amount': 400, 'device': 'google pixel'}, {'name': 'kathy', 'transaction_amount': 200, 'device': 'vivo'}, {'name': 'mona', 'transaction_amount': 1000, 'device': 'iphone-10'}], 1)\n",
      "([{'name': 'kathy', 'transaction_amount': 200, 'device': 'vivo'}, {'name': 'dhaval', 'transaction_amount': 400, 'device': 'google pixel'}, {'name': 'aamir', 'transaction_amount': 800, 'device': 'iphone-8'}, {'name': 'mona', 'transaction_amount': 1000, 'device': 'iphone-10'}], 1)\n"
     ]
    }
   ],
   "source": [
    "def bubble_sort(arr,key):\n",
    "\n",
    "\n",
    "    swapped=0\n",
    "    for j in range(len(arr)):\n",
    "        \n",
    "        for i in range(len(arr)-1-j):\n",
    "            \n",
    "            if arr[i+1][key]<arr[i][key]:\n",
    "                c=arr[i+1]\n",
    "                arr[i+1]=arr[i]\n",
    "                arr[i]=c\n",
    "                swapped=1\n",
    "        if swapped==0:\n",
    "            break\n",
    "\n",
    "    return arr\n",
    "        \n",
    "\n",
    "if __name__==\"__main__\":\n",
    "    elements = [\n",
    "        { 'name': 'mona',   'transaction_amount': 1000, 'device': 'iphone-10'},\n",
    "        { 'name': 'dhaval', 'transaction_amount': 400,  'device': 'google pixel'},\n",
    "        { 'name': 'kathy',  'transaction_amount': 200,  'device': 'vivo'},\n",
    "        { 'name': 'aamir',  'transaction_amount': 800,  'device': 'iphone-8'},\n",
    "    ]\n",
    "\n",
    "    print(bubble_sort(elements,key='name'))\n",
    "    print(bubble_sort(elements, key='transaction_amount'))\n",
    "\n",
    "\n"
   ]
  }
 ],
 "metadata": {
  "kernelspec": {
   "display_name": "Python 3",
   "language": "python",
   "name": "python3"
  },
  "language_info": {
   "codemirror_mode": {
    "name": "ipython",
    "version": 3
   },
   "file_extension": ".py",
   "mimetype": "text/x-python",
   "name": "python",
   "nbconvert_exporter": "python",
   "pygments_lexer": "ipython3",
   "version": "3.11.9"
  }
 },
 "nbformat": 4,
 "nbformat_minor": 2
}
