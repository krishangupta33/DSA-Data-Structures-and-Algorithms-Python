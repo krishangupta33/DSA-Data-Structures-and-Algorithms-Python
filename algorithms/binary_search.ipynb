{
 "cells": [
  {
   "cell_type": "code",
   "execution_count": 41,
   "metadata": {},
   "outputs": [
    {
     "name": "stdout",
     "output_type": "stream",
     "text": [
      "7\n",
      "7\n",
      "-1\n"
     ]
    }
   ],
   "source": [
    "def linear_search(val,arr):\n",
    "    for index,value in enumerate(arr):\n",
    "        if value==val:\n",
    "            return index\n",
    "    return None\n",
    "\n",
    "\n",
    "def binary_search(val, arr): #array must be sorted in ascending order\n",
    "    start_i=0\n",
    "    end_i=len(arr)-1\n",
    "\n",
    "    index=None\n",
    "\n",
    "    while val!=arr[(end_i+start_i)//2]:\n",
    "\n",
    "        if val<arr[(end_i+start_i)//2]:\n",
    "            end_i=((end_i+start_i)//2)-1\n",
    "\n",
    "\n",
    "        elif val>arr[(end_i+start_i)//2]:\n",
    "            start_i=((end_i+start_i)//2)+1\n",
    "\n",
    "    if val==arr[(end_i+start_i)//2]:\n",
    "        index=(end_i+start_i)//2\n",
    "\n",
    "    return index\n",
    "\n",
    "\n",
    "def binary_search_recursion(val,arr,start_i,end_i):\n",
    "    \n",
    "\n",
    "    index=(start_i+end_i)//2\n",
    "\n",
    "    if start_i>=end_i:\n",
    "        return -1\n",
    "\n",
    "    if val<arr[index]:\n",
    "        end_i=((end_i+start_i)//2)-1\n",
    "        return binary_search_recursion(val,arr,start_i,end_i)\n",
    "\n",
    "    if val>arr[index]:\n",
    "        start_i=((end_i+start_i)//2)+1\n",
    "        return binary_search_recursion(val,arr,start_i,end_i)\n",
    "\n",
    "    if val==arr[index]:\n",
    "        return index\n",
    "    \n",
    "    \n",
    "\n",
    "\n",
    "        \n",
    "\n",
    "\n",
    "if __name__==\"__main__\":\n",
    "    arr=[2,3,5,8,12,15,18,25,28]\n",
    "\n",
    "    print(linear_search(25,arr))\n",
    "    print(binary_search(25,arr))\n",
    "    print(binary_search_recursion(29,arr,0,len(arr)-1))"
   ]
  },
  {
   "cell_type": "markdown",
   "metadata": {},
   "source": [
    "### Binary Search Exercise\n",
    "1. When I try to find number 5 in below list using binary search, it doesn't work and returns me -1 index. Why is that?\n",
    "\n",
    "    ```numbers = [1,4,6,9,10,5,7]```\n",
    "    \n",
    "1. Find index of all the occurances of a number from sorted list\n",
    "\n",
    "    ```\n",
    "    numbers = [1,4,6,9,11,15,15,15,17,21,34,34,56]\n",
    "    number_to_find = 15  \n",
    "    ```\n",
    "   This should return 5,6,7 as indices containing number 15 in the array\n",
    "    \n",
    "[Solution](https://github.com/codebasics/data-structures-algorithms-python/blob/master/algorithms/1_BinarySearch/binary_search_exercise_solution.py)    "
   ]
  },
  {
   "cell_type": "markdown",
   "metadata": {},
   "source": [
    "## Answer 1: \n",
    "\n",
    "array is not sorted and binary search will skip the later half of the array which contains 5 and hence it will return -1."
   ]
  },
  {
   "cell_type": "code",
   "execution_count": 8,
   "metadata": {},
   "outputs": [
    {
     "name": "stdout",
     "output_type": "stream",
     "text": [
      "[6, 7, 5]\n"
     ]
    }
   ],
   "source": [
    "def binary_search(val,arr):\n",
    "\n",
    "    start_i=0\n",
    "    end_i=len(arr)-1\n",
    "    \n",
    "    indexes=[]\n",
    "\n",
    "    while start_i<=end_i:\n",
    "\n",
    "        index=(start_i+end_i)//2\n",
    "        \n",
    "        if val<arr[index]:\n",
    "            end_i=index-1\n",
    "            \n",
    "\n",
    "        if val>arr[index]:\n",
    "            start_i=index+1\n",
    "            \n",
    "\n",
    "        else :\n",
    "            indexes.append(index)\n",
    "            break\n",
    "\n",
    "    if not indexes:\n",
    "        return []\n",
    "\n",
    "    index_right=index+1\n",
    "    index_left=index-1\n",
    "\n",
    "    while index_right<len(arr) and arr[index_right]==val:\n",
    "        indexes.append(index_right)\n",
    "        index_right+=1\n",
    "\n",
    "    while index_left>=0 and arr[index_left]==val:\n",
    "        indexes.append(index_left)\n",
    "        index_left-=1\n",
    "\n",
    "    return indexes\n",
    "\n",
    "\n",
    "\n",
    "if __name__==\"__main__\":\n",
    "    arr=[1,4,6,9,11,15,15,15,17,21,34,34,56]\n",
    "\n",
    "    \n",
    "    print(binary_search(15,arr))"
   ]
  },
  {
   "cell_type": "code",
   "execution_count": null,
   "metadata": {},
   "outputs": [],
   "source": []
  }
 ],
 "metadata": {
  "kernelspec": {
   "display_name": "Python 3",
   "language": "python",
   "name": "python3"
  },
  "language_info": {
   "codemirror_mode": {
    "name": "ipython",
    "version": 3
   },
   "file_extension": ".py",
   "mimetype": "text/x-python",
   "name": "python",
   "nbconvert_exporter": "python",
   "pygments_lexer": "ipython3",
   "version": "3.11.9"
  }
 },
 "nbformat": 4,
 "nbformat_minor": 2
}
