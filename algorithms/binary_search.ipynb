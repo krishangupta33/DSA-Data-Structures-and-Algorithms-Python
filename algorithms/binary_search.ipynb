{
 "cells": [
  {
   "cell_type": "code",
   "execution_count": 41,
   "metadata": {},
   "outputs": [
    {
     "name": "stdout",
     "output_type": "stream",
     "text": [
      "7\n",
      "7\n",
      "-1\n"
     ]
    }
   ],
   "source": [
    "def linear_search(val,arr):\n",
    "    for index,value in enumerate(arr):\n",
    "        if value==val:\n",
    "            return index\n",
    "    return None\n",
    "\n",
    "\n",
    "def binary_search(val, arr): #array must be sorted in ascending order\n",
    "    start_i=0\n",
    "    end_i=len(arr)-1\n",
    "\n",
    "    index=None\n",
    "\n",
    "    while val!=arr[(end_i+start_i)//2]:\n",
    "\n",
    "        if val<arr[(end_i+start_i)//2]:\n",
    "            end_i=((end_i+start_i)//2)-1\n",
    "\n",
    "\n",
    "        elif val>arr[(end_i+start_i)//2]:\n",
    "            start_i=((end_i+start_i)//2)+1\n",
    "\n",
    "    if val==arr[(end_i+start_i)//2]:\n",
    "        index=(end_i+start_i)//2\n",
    "\n",
    "    return index\n",
    "\n",
    "\n",
    "def binary_search_recursion(val,arr,start_i,end_i):\n",
    "    \n",
    "\n",
    "    index=(start_i+end_i)//2\n",
    "\n",
    "    if start_i>=end_i:\n",
    "        return -1\n",
    "\n",
    "    if val<arr[index]:\n",
    "        end_i=((end_i+start_i)//2)-1\n",
    "        return binary_search_recursion(val,arr,start_i,end_i)\n",
    "\n",
    "    if val>arr[index]:\n",
    "        start_i=((end_i+start_i)//2)+1\n",
    "        return binary_search_recursion(val,arr,start_i,end_i)\n",
    "\n",
    "    if val==arr[index]:\n",
    "        return index\n",
    "    \n",
    "    \n",
    "\n",
    "\n",
    "        \n",
    "\n",
    "\n",
    "if __name__==\"__main__\":\n",
    "    arr=[2,3,5,8,12,15,18,25,28]\n",
    "\n",
    "    print(linear_search(25,arr))\n",
    "    print(binary_search(25,arr))\n",
    "    print(binary_search_recursion(29,arr,0,len(arr)-1))"
   ]
  },
  {
   "cell_type": "code",
   "execution_count": null,
   "metadata": {},
   "outputs": [],
   "source": []
  }
 ],
 "metadata": {
  "kernelspec": {
   "display_name": "Python 3",
   "language": "python",
   "name": "python3"
  },
  "language_info": {
   "codemirror_mode": {
    "name": "ipython",
    "version": 3
   },
   "file_extension": ".py",
   "mimetype": "text/x-python",
   "name": "python",
   "nbconvert_exporter": "python",
   "pygments_lexer": "ipython3",
   "version": "3.11.9"
  }
 },
 "nbformat": 4,
 "nbformat_minor": 2
}
