{
 "cells": [
  {
   "cell_type": "code",
   "execution_count": 4,
   "metadata": {},
   "outputs": [
    {
     "name": "stdout",
     "output_type": "stream",
     "text": [
      "[2, 3, 4, 23, 32, 34, 35, 444]\n"
     ]
    }
   ],
   "source": [
    "def insertion_sort(arr):\n",
    "\n",
    "    \n",
    "    for i in range(1,len(arr)):\n",
    "        j=i-1\n",
    "        anchor=arr[i]\n",
    "\n",
    "        while j>=0 and anchor<arr[j]:\n",
    "            arr[j+1]=arr[j]\n",
    "            j-=1\n",
    "        arr[j+1]=anchor\n",
    "            \n",
    "\n",
    "if __name__==\"__main__\":\n",
    "    arr=[35,34,23,4,32,444,3,2]\n",
    "\n",
    "    insertion_sort(arr)\n",
    "    print(arr)\n"
   ]
  },
  {
   "cell_type": "markdown",
   "metadata": {},
   "source": [
    "### Exercise: Insertion Sort\n",
    "\n",
    "Compute the running median of a sequence of numbers. That is, given a stream of numbers, print out the median of the list so far on each new element.\n",
    "\n",
    "Recall that the median of an even-numbered list is the average of the two middle numbers in a *sorted list*.\n",
    "\n",
    "For example, given the sequence `[2, 1, 5, 7, 2, 0, 5]`, your algorithm should print out:\n",
    "\n",
    "```\n",
    "2\n",
    "1.5\n",
    "2\n",
    "3.5\n",
    "2\n",
    "2\n",
    "2\n",
    "```\n",
    "\n",
    "\n",
    " [Solution](https://github.com/codebasics/data-structures-algorithms-python/blob/master/algorithms/4_InsertionSort/insertion_sort_exercise_solution.py)"
   ]
  },
  {
   "cell_type": "code",
   "execution_count": 40,
   "metadata": {},
   "outputs": [
    {
     "name": "stdout",
     "output_type": "stream",
     "text": [
      "2\n",
      "1.5\n",
      "2\n",
      "3.5\n",
      "2\n",
      "2.0\n",
      "2\n"
     ]
    }
   ],
   "source": [
    "def median(arr):\n",
    "\n",
    "    insertion_sort(arr)\n",
    "\n",
    "    if len(arr)==0:\n",
    "        return \"array is empty\"\n",
    "    \n",
    "    elif len(arr)%2 != 0 :\n",
    "        mid=int((len(arr)+1)/2)-1\n",
    "        return arr[mid]\n",
    "    \n",
    "    else:\n",
    "        mid_1=int((len(arr))/2)-1\n",
    "        mid_2=mid_1+1\n",
    "\n",
    "        return float((arr[mid_1]+arr[mid_2])/2)\n",
    "    \n",
    "def running_median(arr):\n",
    "    for i in range(1,len(arr)+1):\n",
    "        print(median(arr[0:i]))\n",
    "    \n",
    "\n",
    "\n",
    "\n",
    "    \n",
    "\n",
    "arr= [2, 1, 5, 7, 2, 0, 5]\n",
    "running_median(arr)"
   ]
  },
  {
   "cell_type": "code",
   "execution_count": null,
   "metadata": {},
   "outputs": [],
   "source": []
  }
 ],
 "metadata": {
  "kernelspec": {
   "display_name": "Python 3",
   "language": "python",
   "name": "python3"
  },
  "language_info": {
   "codemirror_mode": {
    "name": "ipython",
    "version": 3
   },
   "file_extension": ".py",
   "mimetype": "text/x-python",
   "name": "python",
   "nbconvert_exporter": "python",
   "pygments_lexer": "ipython3",
   "version": "3.11.9"
  }
 },
 "nbformat": 4,
 "nbformat_minor": 2
}
