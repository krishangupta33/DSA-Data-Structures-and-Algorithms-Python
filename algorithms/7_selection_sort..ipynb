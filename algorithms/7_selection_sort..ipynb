{
 "cells": [
  {
   "cell_type": "code",
   "execution_count": 5,
   "metadata": {},
   "outputs": [
    {
     "name": "stdout",
     "output_type": "stream",
     "text": [
      "[1, 2, 6, 7, 9, 12, 17, 21, 23, 53, 61, 78, 89]\n",
      "[]\n",
      "[1, 5, 8, 9]\n",
      "[1, 3, 9, 12, 12, 34, 56, 234, 1300]\n",
      "[8, 12, 15, 23, 27, 53, 61, 78]\n",
      "[5]\n"
     ]
    }
   ],
   "source": [
    "def ss(arr):\n",
    "    for i in range(len(arr)-1):\n",
    "        for j in range(i+1,len(arr)):\n",
    "            min_index=i\n",
    "            if arr[j]<arr[min_index]:\n",
    "                min_index=j\n",
    "\n",
    "            arr[i],arr[min_index]=arr[min_index],arr[i]\n",
    "\n",
    "if __name__ == '__main__':\n",
    "    tests = [\n",
    "        [89, 78, 61, 53, 23, 21, 17, 12, 9, 7, 6, 2, 1],\n",
    "        [],\n",
    "        [1,5,8,9],\n",
    "        [234,3,1,56,34,12,9,12,1300],\n",
    "        [78, 12, 15, 8, 61, 53, 23, 27],\n",
    "        [5]\n",
    "    ]\n",
    "    for elements in tests:\n",
    "        ss(elements)\n",
    "        print(elements)\n"
   ]
  },
  {
   "cell_type": "code",
   "execution_count": null,
   "metadata": {},
   "outputs": [],
   "source": []
  }
 ],
 "metadata": {
  "kernelspec": {
   "display_name": "Python 3",
   "language": "python",
   "name": "python3"
  },
  "language_info": {
   "codemirror_mode": {
    "name": "ipython",
    "version": 3
   },
   "file_extension": ".py",
   "mimetype": "text/x-python",
   "name": "python",
   "nbconvert_exporter": "python",
   "pygments_lexer": "ipython3",
   "version": "3.11.9"
  }
 },
 "nbformat": 4,
 "nbformat_minor": 2
}
