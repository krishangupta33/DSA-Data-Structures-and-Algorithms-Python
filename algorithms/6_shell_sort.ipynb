{
 "cells": [
  {
   "cell_type": "code",
   "execution_count": 6,
   "metadata": {},
   "outputs": [
    {
     "name": "stdout",
     "output_type": "stream",
     "text": [
      "[2, 3, 3, 3, 4, 4, 5, 6, 22, 34, 34, 75, 77]\n"
     ]
    }
   ],
   "source": [
    "def shell_sort(arr):\n",
    "    size= len(arr)\n",
    "    gap=size//2\n",
    "\n",
    "    while gap>0:\n",
    "\n",
    "        for i in range(gap,size):\n",
    "            anchor = arr[i]\n",
    "            j=i\n",
    "\n",
    "            while j>=gap and arr[j-gap]>anchor:\n",
    "                arr[j]=arr[j-gap]\n",
    "                j=j-gap\n",
    "\n",
    "            arr[j]= anchor\n",
    "\n",
    "        gap=gap//2\n",
    "\n",
    "\n",
    "if __name__ == '__main__':\n",
    "    arr=[34,5,3,2,6,3,4,77,34,22,75,3,4]\n",
    "\n",
    "    shell_sort(arr)\n",
    "    print(arr)"
   ]
  }
 ],
 "metadata": {
  "kernelspec": {
   "display_name": "Python 3",
   "language": "python",
   "name": "python3"
  },
  "language_info": {
   "codemirror_mode": {
    "name": "ipython",
    "version": 3
   },
   "file_extension": ".py",
   "mimetype": "text/x-python",
   "name": "python",
   "nbconvert_exporter": "python",
   "pygments_lexer": "ipython3",
   "version": "3.11.9"
  }
 },
 "nbformat": 4,
 "nbformat_minor": 2
}
