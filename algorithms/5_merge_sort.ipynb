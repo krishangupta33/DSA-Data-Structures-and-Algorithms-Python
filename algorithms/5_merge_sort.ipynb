{
 "cells": [
  {
   "cell_type": "code",
   "execution_count": 37,
   "metadata": {},
   "outputs": [
    {
     "name": "stdout",
     "output_type": "stream",
     "text": [
      "[0, 1, 1, 3, 4, 12, 34, 35, 55]\n"
     ]
    }
   ],
   "source": [
    "def merge_sorted_array(a,b,arr):\n",
    "\n",
    "    i=j=k=0\n",
    "\n",
    "\n",
    "    while i<len(a) and j<len(b):\n",
    "        if a[i]<=b[j]:\n",
    "            arr[k]=a[i]\n",
    "            i +=1\n",
    "            \n",
    "        else:\n",
    "            arr[k]=b[j]\n",
    "            j +=1\n",
    "        k +=1\n",
    "\n",
    "    while i<len(a):\n",
    "        arr[k]=a[i]\n",
    "        i +=1\n",
    "        k +=1\n",
    "\n",
    "    while j<len(b):\n",
    "        arr[k]=b[j]\n",
    "        j +=1\n",
    "        k +=1\n",
    "\n",
    "def merge_sort(a):\n",
    "    \n",
    "    if len(a)<=1:\n",
    "        return\n",
    "    \n",
    "   \n",
    "    mid=len(a)//2\n",
    "\n",
    "    left=a[mid:]\n",
    "    right=a[:mid]\n",
    "\n",
    "    merge_sort(left)\n",
    "    merge_sort(right)\n",
    "\n",
    "    merge_sorted_array(left,right, a)\n",
    "    \n",
    "\n",
    "\n",
    "\n",
    "\n",
    "if __name__ == \"__main__\":\n",
    "\n",
    "    a=[2,3,4,5]\n",
    "\n",
    "    b=[0,1,4,5,6,7]\n",
    "\n",
    "    arr=[34,12,3,4,55,1,1,35,0]\n",
    "\n",
    "    \n",
    "\n",
    "    # print(merge_sorted_array(a,b))\n",
    "    merge_sort(arr)\n",
    "    print(arr)\n",
    "\n",
    "\n",
    "\n",
    "\n"
   ]
  },
  {
   "cell_type": "code",
   "execution_count": null,
   "metadata": {},
   "outputs": [],
   "source": []
  }
 ],
 "metadata": {
  "kernelspec": {
   "display_name": "Python 3",
   "language": "python",
   "name": "python3"
  },
  "language_info": {
   "codemirror_mode": {
    "name": "ipython",
    "version": 3
   },
   "file_extension": ".py",
   "mimetype": "text/x-python",
   "name": "python",
   "nbconvert_exporter": "python",
   "pygments_lexer": "ipython3",
   "version": "3.11.9"
  }
 },
 "nbformat": 4,
 "nbformat_minor": 2
}
