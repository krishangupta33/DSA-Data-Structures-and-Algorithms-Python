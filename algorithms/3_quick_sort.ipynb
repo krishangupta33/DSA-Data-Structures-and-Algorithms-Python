{
 "cells": [
  {
   "cell_type": "markdown",
   "metadata": {},
   "source": [
    "# Hoare Partition"
   ]
  },
  {
   "cell_type": "code",
   "execution_count": 16,
   "metadata": {},
   "outputs": [
    {
     "name": "stdout",
     "output_type": "stream",
     "text": [
      "[1, 2, 3, 11, 23, 34, 44, 54]\n"
     ]
    }
   ],
   "source": [
    "def swap(elements,a,b):\n",
    "    elements[a],elements[b]=elements[b],elements[a]\n",
    "\n",
    "def partition(elements,start,end):\n",
    "\n",
    "    pivot_index=start\n",
    "    pivot=elements[pivot_index]\n",
    "\n",
    "    while start<end:\n",
    "        while start<len(elements) and elements[start]<=pivot:\n",
    "            start +=1\n",
    "\n",
    "        while elements[end]>pivot:\n",
    "            end-=1\n",
    "\n",
    "        if start<end:\n",
    "            swap(elements,start,end)\n",
    "\n",
    "    swap(elements,pivot_index,end)\n",
    "\n",
    "    return end\n",
    "    \n",
    "\n",
    "def quicksort(elements,start,end):\n",
    "\n",
    "    if start<end:\n",
    "        pi= partition(elements,start,end)\n",
    "        quicksort(elements,start,pi-1)\n",
    "        quicksort(elements,pi+1,end)\n",
    "\n",
    "\n",
    "if __name__==\"__main__\":\n",
    "    arr=[11,3,2,34,23,44,54,1]\n",
    "    \n",
    "    quicksort(arr,0,len(arr)-1)\n",
    "\n",
    "    print(arr)\n"
   ]
  },
  {
   "cell_type": "markdown",
   "metadata": {},
   "source": [
    "### Exercise: Quick Sort\n",
    "Implement quick sort using lumoto partition scheme. This partition scheme is explained in the video tutorial, you need to write python code to implement it.\n",
    "Check the pseudo code here: https://en.wikipedia.org/wiki/Quicksort Check the section Lomuto partition scheme\n",
    " \n",
    " [Solution](https://github.com/codebasics/data-structures-algorithms-python/blob/master/algorithms/3_QuickSort/quick_sort_exercise_soluiton_lomuto.py)\n",
    "\n",
    "\n",
    "\n",
    " "
   ]
  },
  {
   "cell_type": "markdown",
   "metadata": {},
   "source": [
    "# Lomuto Partition"
   ]
  },
  {
   "cell_type": "code",
   "execution_count": 31,
   "metadata": {},
   "outputs": [
    {
     "name": "stdout",
     "output_type": "stream",
     "text": [
      "[1, 2, 3, 11, 23, 25, 34, 44, 54]\n"
     ]
    }
   ],
   "source": [
    "def swap(elements,a,b):\n",
    "    elements[a],elements[b]=elements[b],elements[a]\n",
    "\n",
    "def partition(elements,start,end):  #start is P index shown in image and pivot is end\n",
    "\n",
    "    pivot=elements[end]\n",
    "    i=start\n",
    "\n",
    "    for j in range(start,end):\n",
    "        if elements[j]<=pivot:\n",
    "            swap(elements,j,i)\n",
    "            i+=1\n",
    "\n",
    "    swap(elements,i,end)\n",
    "\n",
    "    return i\n",
    "\n",
    "\n",
    "\n",
    "def quicksort(elements,start,end):\n",
    "\n",
    "    if start<end:\n",
    "        pi=partition(elements,start,end)\n",
    "        quicksort(elements,start,pi-1)\n",
    "        quicksort(elements,pi+1,end)\n",
    "    \n",
    "\n",
    "\n",
    "if __name__==\"__main__\":\n",
    "\n",
    "    arr=[11,3,2,34,23,44,54,1,25]\n",
    "    \n",
    "    quicksort(arr,0,len(arr)-1)\n",
    "\n",
    "    print(arr)\n"
   ]
  },
  {
   "cell_type": "code",
   "execution_count": null,
   "metadata": {},
   "outputs": [],
   "source": []
  }
 ],
 "metadata": {
  "kernelspec": {
   "display_name": "Python 3",
   "language": "python",
   "name": "python3"
  },
  "language_info": {
   "codemirror_mode": {
    "name": "ipython",
    "version": 3
   },
   "file_extension": ".py",
   "mimetype": "text/x-python",
   "name": "python",
   "nbconvert_exporter": "python",
   "pygments_lexer": "ipython3",
   "version": "3.11.9"
  }
 },
 "nbformat": 4,
 "nbformat_minor": 2
}
