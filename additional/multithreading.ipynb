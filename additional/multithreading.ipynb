{
 "cells": [
  {
   "cell_type": "code",
   "execution_count": 1,
   "metadata": {},
   "outputs": [],
   "source": [
    "import time\n",
    "import threading"
   ]
  },
  {
   "cell_type": "code",
   "execution_count": 5,
   "metadata": {},
   "outputs": [
    {
     "name": "stdout",
     "output_type": "stream",
     "text": [
      "Square of 2 is  4\n",
      "Square of 3 is  9\n",
      "Square of 4 is  16\n",
      "Square of 5 is  25\n",
      "Square of 6 is  36\n",
      "Square of 7 is  49\n",
      "Square of 8 is  64\n",
      "Square of 9 is  81\n",
      "Cube of 2 is  8\n",
      "Cube of 3 is  27\n",
      "Cube of 4 is  64\n",
      "Cube of 5 is  125\n",
      "Cube of 6 is  216\n",
      "Cube of 7 is  343\n",
      "Cube of 8 is  512\n",
      "Cube of 9 is  729\n",
      "time took to take =  3.240638017654419\n"
     ]
    }
   ],
   "source": [
    "def calc_square(arr):\n",
    "    for i in arr:\n",
    "        time.sleep(0.2)\n",
    "        print(f\"Square of {i} is \", i**2)\n",
    "\n",
    "def calc_cube(arr):\n",
    "    for i in arr:\n",
    "        time.sleep(0.2)\n",
    "        print(f\"Cube of {i} is \", i**3)\n",
    "\n",
    "arr=[2,3,4,5,6,7,8,9]\n",
    "t=time.time()\n",
    "calc_square(arr)\n",
    "calc_cube(arr)\n",
    "print(\"time took to take = \", time.time()-t)"
   ]
  },
  {
   "cell_type": "code",
   "execution_count": 8,
   "metadata": {},
   "outputs": [
    {
     "name": "stdout",
     "output_type": "stream",
     "text": [
      "Square of 2 is Cube of 2 is  8\n",
      " 4\n",
      "Square of 3 is Cube of 3 is  27\n",
      " 9\n",
      "Cube of 4 is Square of 4 is  16\n",
      " 64\n",
      "Cube of 5 is Square of 5 is  25\n",
      " 125\n",
      "Cube of 6 is  216\n",
      "Square of 6 is  36\n",
      "Cube of 7 is  343\n",
      "Square of 7 is  49\n",
      "Cube of 8 is  512\n",
      "Square of 8 is  64\n",
      "Cube of 9 is  729\n",
      "Square of 9 is  81\n",
      "time took to take =  1.6262569427490234\n"
     ]
    }
   ],
   "source": [
    "arr=[2,3,4,5,6,7,8,9]\n",
    "t=time.time()\n",
    "\n",
    "t1=threading.Thread(target=calc_square,args=(arr,))\n",
    "t2=threading.Thread(target=calc_cube,args=(arr,))\n",
    "\n",
    "t1.start()\n",
    "t2.start()\n",
    "\n",
    "t1.join()\n",
    "t2.join()\n",
    "\n",
    "print(\"time took to take = \", time.time()-t)\n"
   ]
  }
 ],
 "metadata": {
  "kernelspec": {
   "display_name": "Python 3",
   "language": "python",
   "name": "python3"
  },
  "language_info": {
   "codemirror_mode": {
    "name": "ipython",
    "version": 3
   },
   "file_extension": ".py",
   "mimetype": "text/x-python",
   "name": "python",
   "nbconvert_exporter": "python",
   "pygments_lexer": "ipython3",
   "version": "3.11.9"
  }
 },
 "nbformat": 4,
 "nbformat_minor": 2
}
