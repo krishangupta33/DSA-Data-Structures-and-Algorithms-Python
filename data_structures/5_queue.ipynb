{
 "cells": [
  {
   "cell_type": "code",
   "execution_count": 7,
   "metadata": {},
   "outputs": [],
   "source": [
    "stock_exchange_queue = []\n",
    "\n",
    "stock_exchange_queue.insert(0, 11.4)\n",
    "stock_exchange_queue.insert(0,12)\n",
    "stock_exchange_queue.insert(0,13)"
   ]
  },
  {
   "cell_type": "code",
   "execution_count": 8,
   "metadata": {},
   "outputs": [
    {
     "data": {
      "text/plain": [
       "[13, 12, 11.4]"
      ]
     },
     "execution_count": 8,
     "metadata": {},
     "output_type": "execute_result"
    }
   ],
   "source": [
    "stock_exchange_queue"
   ]
  },
  {
   "cell_type": "code",
   "execution_count": 9,
   "metadata": {},
   "outputs": [
    {
     "data": {
      "text/plain": [
       "11.4"
      ]
     },
     "execution_count": 9,
     "metadata": {},
     "output_type": "execute_result"
    }
   ],
   "source": [
    "stock_exchange_queue.pop()"
   ]
  },
  {
   "cell_type": "code",
   "execution_count": 10,
   "metadata": {},
   "outputs": [
    {
     "data": {
      "text/plain": [
       "[13, 12]"
      ]
     },
     "execution_count": 10,
     "metadata": {},
     "output_type": "execute_result"
    }
   ],
   "source": [
    "stock_exchange_queue"
   ]
  },
  {
   "cell_type": "markdown",
   "metadata": {},
   "source": [
    "## Using deque"
   ]
  },
  {
   "cell_type": "code",
   "execution_count": 4,
   "metadata": {},
   "outputs": [],
   "source": [
    "from collections import deque\n",
    "\n",
    "class queue():\n",
    "    def __init__(self):\n",
    "        self.buffer=deque()\n",
    "\n",
    "    def enqueue(self,a):\n",
    "        self.buffer.appendleft(a)\n",
    "\n",
    "    def dequeue(self):\n",
    "\n",
    "        if len(self.buffer)==0:\n",
    "            print(\"queue is empty\")\n",
    "            return\n",
    "        \n",
    "        poped=self.buffer.pop()\n",
    "        return poped\n",
    "    \n",
    "    def size(self):\n",
    "        return len(self.buffer)\n",
    "    \n",
    "    def front(self):\n",
    "        return self.buffer[-1]"
   ]
  },
  {
   "cell_type": "code",
   "execution_count": 2,
   "metadata": {},
   "outputs": [
    {
     "data": {
      "text/plain": [
       "0"
      ]
     },
     "execution_count": 2,
     "metadata": {},
     "output_type": "execute_result"
    }
   ],
   "source": [
    "q=queue()\n",
    "\n",
    "q.enqueue(5)\n",
    "q.enqueue(7)\n",
    "q.enqueue(\"fff\")\n",
    "q.dequeue()\n",
    "q.dequeue()\n",
    "q.dequeue()\n",
    "q.size()"
   ]
  },
  {
   "cell_type": "markdown",
   "metadata": {},
   "source": [
    "## Data structure tutorial exercise: Queue\n",
    "\n",
    "For all exercises use [Queue class](https://github.com/codebasics/data-structures-algorithms-python/blob/master/data_structures/6_Queue/6_queue.ipynb) implemented in main tutorial.\n",
    "\n",
    "1. Design a food ordering system where your python program will run two threads,\n",
    "    1. Place Order: This thread will be placing an order and inserting that into a queue. This thread places new order every 0.5 second. (hint: use time.sleep(0.5) function)\n",
    "    1. Serve Order: This thread will server the order. All you need to do is pop the order out of the queue and print it. This thread serves an order every 2 seconds. Also start this thread 1 second after place order thread is started.\n",
    "\n",
    "    Use this video to get yourself familiar with [multithreading in python](https://www.youtube.com/watch?v=PJ4t2U15ACo&list=PLeo1K3hjS3uub3PRhdoCTY8BxMKSW7RjN&index=2&t=0s)\n",
    "\n",
    "    Pass following list as an argument to place order thread,\n",
    "    ```\n",
    "    orders = ['pizza','samosa','pasta','biryani','burger']\n",
    "    ```\n",
    "    This problem is a producer,consumer problem where place_order thread is producing orders whereas server_order thread is consuming the food orders.\n",
    "    Use Queue class implemented in a video tutorial.\n",
    "\n",
    "[Solution](https://github.com/codebasics/data-structures-algorithms-python/blob/master/data_structures/6_Queue/Exercise/food_ordering_system.py)\n",
    "\n"
   ]
  },
  {
   "cell_type": "code",
   "execution_count": 3,
   "metadata": {},
   "outputs": [
    {
     "name": "stdout",
     "output_type": "stream",
     "text": [
      "placing order:  pizza\n",
      "served:  pizza\n",
      "placing order:  samosa\n",
      "placing order:  pasta\n",
      "placing order:  biryani\n",
      "placing order:  burger\n",
      "served:  samosa\n",
      "served:  pasta\n",
      "served:  biryani\n",
      "served:  burger\n",
      "time taken to serve all orders: 11.02537202835083\n"
     ]
    }
   ],
   "source": [
    "import time\n",
    "import threading\n",
    "\n",
    "orders = ['pizza','samosa','pasta','biryani','burger']\n",
    "\n",
    "q=queue()\n",
    "\n",
    "def place_order(arr):\n",
    "\n",
    "    for i in arr:\n",
    "        time.sleep(0.5)\n",
    "        print(\"placing order: \",i)\n",
    "\n",
    "        q.enqueue(i)\n",
    "\n",
    "def serve_order():\n",
    "    time.sleep(1)\n",
    "\n",
    "    while q.size():\n",
    "        \n",
    "        served=q.dequeue()\n",
    "        print(\"served: \",served)\n",
    "        time.sleep(2)\n",
    "\n",
    "t1=threading.Thread(target=place_order,args=(orders,))\n",
    "t2=threading.Thread(target=serve_order)\n",
    "\n",
    "t=time.time()\n",
    "t1.start()\n",
    "t2.start()\n",
    "\n",
    "t1.join()\n",
    "t2.join()\n",
    "\n",
    "print(\"time taken to serve all orders:\", time.time()-t)\n",
    "\n",
    "\n"
   ]
  },
  {
   "cell_type": "markdown",
   "metadata": {},
   "source": [
    "2. Write a program to print binary numbers from 1 to 10 using Queue. Use Queue class implemented in main tutorial.\n",
    "Binary sequence should look like,\n",
    "```\n",
    "    1\n",
    "    10\n",
    "    11\n",
    "    100\n",
    "    101\n",
    "    110\n",
    "    111\n",
    "    1000\n",
    "    1001\n",
    "    1010\n",
    "```\n",
    "Hint: Notice a pattern above. After 1 second and third number is 1+0 and 1+1. 4th and 5th number are second number (i.e. 10) + 0 and second number (i.e. 10) + 1.\n",
    "\n",
    "You also need to add front() function in queue class that can return the front element in the queue.\n",
    "\n",
    "[Solution](https://github.com/codebasics/data-structures-algorithms-python/blob/master/data_structures/6_Queue/Exercise/binary_numbers.py)"
   ]
  },
  {
   "cell_type": "markdown",
   "metadata": {},
   "source": [
    "1\n",
    "10 1\n",
    "11 10 1\n",
    "11 10\n",
    "100 11 10\n",
    "101 100 11 10\n"
   ]
  },
  {
   "cell_type": "code",
   "execution_count": 16,
   "metadata": {},
   "outputs": [
    {
     "name": "stdout",
     "output_type": "stream",
     "text": [
      "1\n",
      "10\n",
      "11\n",
      "100\n",
      "101\n",
      "110\n",
      "111\n",
      "1000\n",
      "1001\n",
      "1010\n"
     ]
    }
   ],
   "source": [
    "def n_binary_num(n):\n",
    "    q=queue()\n",
    "\n",
    "    q.enqueue(\"1\")\n",
    "\n",
    "    for i in range(n):\n",
    "        front=q.front()\n",
    "        print(front)\n",
    "        a=front + \"0\"\n",
    "        b=front + \"1\"\n",
    "        q.enqueue(a)\n",
    "        q.enqueue(b)\n",
    "        \n",
    "        \n",
    "        q.dequeue()\n",
    "\n",
    "n_binary_num(10)\n",
    "\n",
    "\n",
    "\n",
    "        "
   ]
  }
 ],
 "metadata": {
  "kernelspec": {
   "display_name": "Python 3",
   "language": "python",
   "name": "python3"
  },
  "language_info": {
   "codemirror_mode": {
    "name": "ipython",
    "version": 3
   },
   "file_extension": ".py",
   "mimetype": "text/x-python",
   "name": "python",
   "nbconvert_exporter": "python",
   "pygments_lexer": "ipython3",
   "version": "3.11.9"
  }
 },
 "nbformat": 4,
 "nbformat_minor": 2
}
