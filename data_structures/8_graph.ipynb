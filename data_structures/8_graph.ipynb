{
 "cells": [
  {
   "cell_type": "code",
   "execution_count": 20,
   "metadata": {},
   "outputs": [
    {
     "name": "stdout",
     "output_type": "stream",
     "text": [
      "{'Mumbai': ['Paris', 'Dubai'], 'Paris': ['Dubai', 'New York'], 'Dubai': ['New York'], 'New York': ['Toronto']}\n",
      "All paths between: Mumbai and New York:  [['Mumbai', 'Paris', 'Dubai', 'New York'], ['Mumbai', 'Paris', 'New York'], ['Mumbai', 'Dubai', 'New York']]\n",
      "Shortest paths between: Mumbai and New York:  ['Mumbai', 'Paris', 'New York']\n"
     ]
    }
   ],
   "source": [
    "class graph:\n",
    "    def __init__(self,edges):\n",
    "\n",
    "        self.edges=edges\n",
    "        self.route_dic={}\n",
    "\n",
    "        for start, end in self.edges:\n",
    "            if start in self.route_dic:\n",
    "                self.route_dic[start].append(end)\n",
    "            else:\n",
    "                self.route_dic[start]=[end]\n",
    "\n",
    "        print(self.route_dic)\n",
    "        \n",
    "\n",
    "    def get_paths(self, start, end, path=[]):\n",
    "\n",
    "        path = path +[start]\n",
    "        if start==end:\n",
    "            return [path]\n",
    "\n",
    "        if start not in self.route_dic:\n",
    "            return None\n",
    "        \n",
    "        paths=[]\n",
    "        for node in self.route_dic[start]:\n",
    "            if node not in path:\n",
    "                new_paths=self.get_paths(node,end, path)\n",
    "                for p in new_paths:\n",
    "                    paths.append(p)\n",
    "        \n",
    "        return paths\n",
    "    \n",
    "\n",
    "    def get_shortest_path(self, start, end, path=[]):  #in terms of min route changes\n",
    "\n",
    "        paths = self.get_paths(start, end)\n",
    "        \n",
    "        shortest_path = None\n",
    "\n",
    "        shortest_path=paths[0]\n",
    "\n",
    "        for p in paths:\n",
    "            if len(p)<len(shortest_path):\n",
    "                shortest_path=p\n",
    "\n",
    "        return shortest_path\n",
    "        \n",
    "\n",
    "\n",
    "if __name__ == \"__main__\":\n",
    "\n",
    "    routes = [\n",
    "        (\"Mumbai\", \"Paris\"),\n",
    "        (\"Mumbai\", \"Dubai\"),\n",
    "        (\"Paris\", \"Dubai\"),\n",
    "        (\"Paris\", \"New York\"),\n",
    "        (\"Dubai\", \"New York\"),\n",
    "        (\"New York\", \"Toronto\"),\n",
    "    ]\n",
    "\n",
    "    route_graph = graph(routes)\n",
    "\n",
    "    start = \"Mumbai\"\n",
    "    end = \"New York\"\n",
    "\n",
    "    print(f\"All paths between: {start} and {end}: \",route_graph.get_paths(start,end))\n",
    "\n",
    "    print(f\"Shortest paths between: {start} and {end}: \",route_graph.get_shortest_path(start,end))\n",
    "\n",
    "\n"
   ]
  },
  {
   "cell_type": "code",
   "execution_count": null,
   "metadata": {},
   "outputs": [],
   "source": []
  }
 ],
 "metadata": {
  "kernelspec": {
   "display_name": "Python 3",
   "language": "python",
   "name": "python3"
  },
  "language_info": {
   "codemirror_mode": {
    "name": "ipython",
    "version": 3
   },
   "file_extension": ".py",
   "mimetype": "text/x-python",
   "name": "python",
   "nbconvert_exporter": "python",
   "pygments_lexer": "ipython3",
   "version": "3.11.9"
  }
 },
 "nbformat": 4,
 "nbformat_minor": 2
}
